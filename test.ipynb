{
 "cells": [
  {
   "cell_type": "code",
   "execution_count": 113,
   "id": "6beb1c44",
   "metadata": {},
   "outputs": [],
   "source": [
    "import os\n",
    "import cv2\n",
    "import numpy as np\n",
    "import pandas as pd\n",
    "from tensorflow.keras.applications.resnet50 import preprocess_input\n",
    "\n",
    "def load_and_preprocess_resnet_images(folder_path, target_size=(224, 224)):\n",
    "    data = []\n",
    "    for filename in os.listdir(folder_path):\n",
    "        if filename.lower().endswith(('.png', '.jpg', '.jpeg')):\n",
    "            image_path = os.path.join(folder_path, filename)\n",
    "            image = cv2.imread(image_path)\n",
    "            if image is not None:\n",
    "                image = cv2.resize(image, target_size)\n",
    "                image = image.astype('float32')\n",
    "                image = preprocess_input(image)  # Khusus untuk ResNet50\n",
    "                data.append({\n",
    "                    'filename': filename,\n",
    "                    'image': image\n",
    "                })\n",
    "    \n",
    "    df = pd.DataFrame(data)\n",
    "    return df\n",
    "\n",
    "# Contoh penggunaan\n",
    "folder = 'Data_test'  # Ganti dengan path kamu\n",
    "df_images_res = load_and_preprocess_resnet_images(folder)\n"
   ]
  },
  {
   "cell_type": "code",
   "execution_count": 114,
   "id": "727dc64b",
   "metadata": {},
   "outputs": [
    {
     "name": "stderr",
     "output_type": "stream",
     "text": [
      "<>:3: SyntaxWarning: invalid escape sequence '\\m'\n",
      "<>:3: SyntaxWarning: invalid escape sequence '\\m'\n",
      "C:\\Users\\Prazka Aldiyuda\\AppData\\Local\\Temp\\ipykernel_8512\\2760863449.py:3: SyntaxWarning: invalid escape sequence '\\m'\n",
      "  model = load_model('app\\model\\model_resnet_aug1.3.h5')\n",
      "WARNING:absl:Compiled the loaded model, but the compiled metrics have yet to be built. `model.compile_metrics` will be empty until you train or evaluate the model.\n"
     ]
    }
   ],
   "source": [
    "from tensorflow.keras.models import load_model\n",
    "\n",
    "model = load_model('app\\model\\model_resnet_aug1.3.h5')\n",
    "\n"
   ]
  },
  {
   "cell_type": "code",
   "execution_count": 115,
   "id": "73e8ed60",
   "metadata": {},
   "outputs": [
    {
     "name": "stdout",
     "output_type": "stream",
     "text": [
      "                   filename   predicted_label  confidence_score\n",
      "0   Ikan_ ekor_kuning_1.jpg     Ikan_tenggiri          0.373505\n",
      "1   Ikan_ ekor_kuning_2.jpg        Ikan_Badut          0.453164\n",
      "2   Ikan_ ekor_kuning_3.jpg     Ikan_tenggiri          0.383426\n",
      "3          ikan_badut_1.jpg        Ikan_Badut          0.918040\n",
      "4          ikan_badut_2.jpg        Ikan_Badut          0.968126\n",
      "5          ikan_badut_3.jpg        Ikan_Badut          0.983702\n",
      "6       Ikan_Barakuda_1.jpg     Ikan_Barakuda          0.954949\n",
      "7       Ikan_Barakuda_2.jpg     Ikan_Barakuda          0.975830\n",
      "8       Ikan_Barakuda_3.jpg     Ikan_Barakuda          0.980427\n",
      "9     Ikan_kakapmerah_1.jpg   Ikan_kakapmerah          0.430119\n",
      "10    Ikan_kakapmerah_2.jpg   Ikan_kakapmerah          0.556829\n",
      "11    Ikan_kakapmerah_3.jpg      Ikan_tongkol          0.609225\n",
      "12        Ikan_kerapu_1.png       Ikan_kerapu          0.851359\n",
      "13        Ikan_kerapu_2.png  Ikan_ekor_kuning          0.296616\n",
      "14        Ikan_kerapu_3.jpg       Ikan_kerapu          0.969455\n",
      "15      Ikan_tenggiri_1.jpg     Ikan_tenggiri          0.967401\n",
      "16      Ikan_tenggiri_2.jpg     Ikan_tenggiri          0.645593\n",
      "17      Ikan_tenggiri_3.jpg     Ikan_tenggiri          0.789455\n",
      "18       Ikan_tongkol_1.jpg      Ikan_tongkol          0.888793\n",
      "19      ikan_tongkol_2.jpeg      Ikan_tongkol          0.674720\n",
      "20       ikan_tongkol_3.jpg      Ikan_tongkol          0.518163\n"
     ]
    }
   ],
   "source": [
    "# Daftar label sesuai urutan kelas saat training\n",
    "class_labels = [\"Ikan_Badut\", \"Ikan_Barakuda\", \"Ikan_ekor_kuning\", \"Ikan_kakapmerah\", \"Ikan_kerapu\", \"Ikan_tenggiri\", \"Ikan_tongkol\"]\n",
    "\n",
    "predicted_labels = []\n",
    "confidence_scores = []\n",
    "\n",
    "for _, row in df_images_res.iterrows():\n",
    "    img = np.expand_dims(row['image'], axis=0)\n",
    "    pred = model.predict(img, verbose=0)\n",
    "    class_index = np.argmax(pred[0])\n",
    "    class_label = class_labels[class_index]\n",
    "    confidence = float(pred[0][class_index])\n",
    "\n",
    "    predicted_labels.append(class_label)\n",
    "    confidence_scores.append(confidence)\n",
    "\n",
    "df_images_res['predicted_label'] = predicted_labels\n",
    "df_images_res['confidence_score'] = confidence_scores\n",
    "\n",
    "print(df_images_res[['filename', 'predicted_label', 'confidence_score']])\n"
   ]
  },
  {
   "cell_type": "code",
   "execution_count": 112,
   "id": "e82f24a0",
   "metadata": {},
   "outputs": [
    {
     "name": "stdout",
     "output_type": "stream",
     "text": [
      "                   filename   predicted_label  confidence_score\n",
      "0   Ikan_ ekor_kuning_1.jpg     Ikan_tenggiri          0.373505\n",
      "1   Ikan_ ekor_kuning_2.jpg        Ikan_Badut          0.453164\n",
      "2   Ikan_ ekor_kuning_3.jpg     Ikan_tenggiri          0.383426\n",
      "3          ikan_badut_1.jpg        Ikan_Badut          0.918040\n",
      "4          ikan_badut_2.jpg        Ikan_Badut          0.968126\n",
      "5          ikan_badut_3.jpg        Ikan_Badut          0.983702\n",
      "6       Ikan_Barakuda_1.jpg     Ikan_Barakuda          0.954949\n",
      "7       Ikan_Barakuda_2.jpg     Ikan_Barakuda          0.975830\n",
      "8       Ikan_Barakuda_3.jpg     Ikan_Barakuda          0.980427\n",
      "9     Ikan_kakapmerah_1.jpg   Ikan_kakapmerah          0.430119\n",
      "10    Ikan_kakapmerah_2.jpg   Ikan_kakapmerah          0.556829\n",
      "11    Ikan_kakapmerah_3.jpg      Ikan_tongkol          0.609225\n",
      "12        Ikan_kerapu_1.png       Ikan_kerapu          0.851359\n",
      "13        Ikan_kerapu_2.png  Ikan_ekor_kuning          0.296616\n",
      "14        Ikan_kerapu_3.jpg       Ikan_kerapu          0.969455\n",
      "15      Ikan_tenggiri_1.jpg     Ikan_tenggiri          0.967401\n",
      "16      Ikan_tenggiri_2.jpg     Ikan_tenggiri          0.645593\n",
      "17      Ikan_tenggiri_3.jpg     Ikan_tenggiri          0.789455\n",
      "18       Ikan_tongkol_1.jpg      Ikan_tongkol          0.888793\n",
      "19      ikan_tongkol_2.jpeg      Ikan_tongkol          0.674720\n",
      "20       ikan_tongkol_3.jpg      Ikan_tongkol          0.518163\n"
     ]
    }
   ],
   "source": [
    "print(df_images_res[['filename', 'predicted_label', 'confidence_score']])"
   ]
  },
  {
   "cell_type": "code",
   "execution_count": 1,
   "id": "ec62f439",
   "metadata": {},
   "outputs": [],
   "source": [
    "import os\n",
    "import cv2\n",
    "import numpy as np\n",
    "import pandas as pd\n",
    "from tensorflow.keras.applications.efficientnet import preprocess_input  # ✅ EfficientNet\n",
    "\n",
    "def load_and_preprocess_efficientnet_images(folder_path, target_size=(224, 224)):\n",
    "    data = []\n",
    "    for filename in os.listdir(folder_path):\n",
    "        if filename.lower().endswith(('.png', '.jpg', '.jpeg')):\n",
    "            image_path = os.path.join(folder_path, filename)\n",
    "            image = cv2.imread(image_path)\n",
    "            if image is not None:\n",
    "                image = cv2.resize(image, target_size)\n",
    "                image = image.astype('float32')\n",
    "                image = preprocess_input(image)  \n",
    "                data.append({\n",
    "                    'filename': filename,\n",
    "                    'image': image\n",
    "                })\n",
    "    \n",
    "    df = pd.DataFrame(data)\n",
    "    return df\n",
    "\n",
    "# Contoh penggunaan\n",
    "folder = 'Data_test'\n",
    "df_images_eff = load_and_preprocess_efficientnet_images(folder)\n"
   ]
  },
  {
   "cell_type": "code",
   "execution_count": 2,
   "id": "547a200b",
   "metadata": {},
   "outputs": [
    {
     "name": "stderr",
     "output_type": "stream",
     "text": [
      "<>:3: SyntaxWarning: invalid escape sequence '\\m'\n",
      "<>:3: SyntaxWarning: invalid escape sequence '\\m'\n",
      "C:\\Users\\Prazka Aldiyuda\\AppData\\Local\\Temp\\ipykernel_20876\\2211758408.py:3: SyntaxWarning: invalid escape sequence '\\m'\n",
      "  model_eff = load_model('app\\model\\model_eff_aug1.4.h5')\n",
      "WARNING:absl:Compiled the loaded model, but the compiled metrics have yet to be built. `model.compile_metrics` will be empty until you train or evaluate the model.\n"
     ]
    }
   ],
   "source": [
    "from tensorflow.keras.models import load_model\n",
    "\n",
    "model_eff = load_model('app\\model\\model_eff_aug1.4.h5')\n",
    "\n"
   ]
  },
  {
   "cell_type": "code",
   "execution_count": 3,
   "id": "95bdd8d9",
   "metadata": {},
   "outputs": [
    {
     "name": "stdout",
     "output_type": "stream",
     "text": [
      "                   filename   predicted_label  confidence_score\n",
      "0   Ikan_ ekor_kuning_1.jpg  Ikan_ekor_kuning          0.559503\n",
      "1   Ikan_ ekor_kuning_2.jpg  Ikan_ekor_kuning          0.803660\n",
      "2   Ikan_ ekor_kuning_3.jpg  Ikan_ekor_kuning          0.430138\n",
      "3          ikan_badut_1.jpg        Ikan_Badut          0.593357\n",
      "4          ikan_badut_2.jpg        Ikan_Badut          0.784153\n",
      "5          ikan_badut_3.jpg        Ikan_Badut          0.762614\n",
      "6       Ikan_Barakuda_1.jpg     Ikan_Barakuda          0.894026\n",
      "7       Ikan_Barakuda_2.jpg     Ikan_Barakuda          0.751081\n",
      "8       Ikan_Barakuda_3.jpg     Ikan_Barakuda          0.971622\n",
      "9     Ikan_kakapmerah_1.jpg   Ikan_kakapmerah          0.451051\n",
      "10    Ikan_kakapmerah_2.jpg   Ikan_kakapmerah          0.517565\n",
      "11    Ikan_kakapmerah_3.jpg  Ikan_ekor_kuning          0.452492\n",
      "12        Ikan_kerapu_1.png       Ikan_kerapu          0.695394\n",
      "13        Ikan_kerapu_2.png       Ikan_kerapu          0.328461\n",
      "14        Ikan_kerapu_3.jpg       Ikan_kerapu          0.881824\n",
      "15      Ikan_tenggiri_1.jpg     Ikan_tenggiri          0.752621\n",
      "16      Ikan_tenggiri_2.jpg     Ikan_tenggiri          0.654802\n",
      "17      Ikan_tenggiri_3.jpg     Ikan_tenggiri          0.707933\n",
      "18       Ikan_tongkol_1.jpg      Ikan_tongkol          0.543115\n",
      "19      ikan_tongkol_2.jpeg      Ikan_tongkol          0.870601\n",
      "20       ikan_tongkol_3.jpg      Ikan_tongkol          0.876055\n"
     ]
    }
   ],
   "source": [
    "# Daftar label sesuai urutan kelas saat training\n",
    "class_labels = [\"Ikan_Badut\", \"Ikan_Barakuda\", \"Ikan_ekor_kuning\", \"Ikan_kakapmerah\", \"Ikan_kerapu\", \"Ikan_tenggiri\", \"Ikan_tongkol\"]\n",
    "\n",
    "# Menyimpan hasil prediksi label dan confidence score\n",
    "predicted_labels = []\n",
    "confidence_scores = []\n",
    "\n",
    "for _, row in df_images_eff.iterrows():\n",
    "    img = np.expand_dims(row['image'], axis=0)\n",
    "    pred = model_eff.predict(img, verbose=0)\n",
    "    class_index = np.argmax(pred[0])  # Index prediksi tertinggi\n",
    "    class_label = class_labels[class_index]\n",
    "    confidence = float(pred[0][class_index])  # Skor probabilitas tertinggi\n",
    "\n",
    "    predicted_labels.append(class_label)\n",
    "    confidence_scores.append(confidence)\n",
    "\n",
    "# Tambahkan ke DataFrame\n",
    "df_images_eff['predicted_label'] = predicted_labels\n",
    "df_images_eff['confidence_score'] = confidence_scores\n",
    "\n",
    "# Cetak hasil\n",
    "print(df_images_eff[['filename', 'predicted_label', 'confidence_score']])\n"
   ]
  },
  {
   "cell_type": "code",
   "execution_count": 83,
   "id": "81fa7187",
   "metadata": {},
   "outputs": [
    {
     "name": "stdout",
     "output_type": "stream",
     "text": [
      "                   filename   predicted_label\n",
      "0   Ikan_ ekor_kuning_1.jpg  Ikan_ekor_kuning\n",
      "1   Ikan_ ekor_kuning_2.jpg  Ikan_ekor_kuning\n",
      "2   Ikan_ ekor_kuning_3.jpg  Ikan_ekor_kuning\n",
      "3          ikan_badut_1.jpg        Ikan_Badut\n",
      "4          ikan_badut_2.jpg        Ikan_Badut\n",
      "5          ikan_badut_3.jpg        Ikan_Badut\n",
      "6       Ikan_Barakuda_1.jpg     Ikan_Barakuda\n",
      "7       Ikan_Barakuda_2.jpg     Ikan_Barakuda\n",
      "8       Ikan_Barakuda_3.jpg     Ikan_Barakuda\n",
      "9     Ikan_kakapmerah_1.jpg  Ikan_ekor_kuning\n",
      "10    Ikan_kakapmerah_2.jpg   Ikan_kakapmerah\n",
      "11    Ikan_kakapmerah_3.jpg  Ikan_ekor_kuning\n",
      "12        Ikan_kerapu_1.png       Ikan_kerapu\n",
      "13        Ikan_kerapu_2.png       Ikan_kerapu\n",
      "14        Ikan_kerapu_3.jpg       Ikan_kerapu\n",
      "15      Ikan_tenggiri_1.jpg     Ikan_tenggiri\n",
      "16      Ikan_tenggiri_2.jpg  Ikan_ekor_kuning\n",
      "17      Ikan_tenggiri_3.jpg     Ikan_tenggiri\n",
      "18       Ikan_tongkol_1.jpg      Ikan_tongkol\n",
      "19      ikan_tongkol_2.jpeg      Ikan_tongkol\n",
      "20       ikan_tongkol_3.jpg      Ikan_tongkol\n"
     ]
    }
   ],
   "source": [
    "print(df_images_eff[['filename', 'predicted_label']])"
   ]
  },
  {
   "cell_type": "code",
   "execution_count": null,
   "id": "f6512d23",
   "metadata": {},
   "outputs": [],
   "source": []
  }
 ],
 "metadata": {
  "kernelspec": {
   "display_name": "base",
   "language": "python",
   "name": "python3"
  },
  "language_info": {
   "codemirror_mode": {
    "name": "ipython",
    "version": 3
   },
   "file_extension": ".py",
   "mimetype": "text/x-python",
   "name": "python",
   "nbconvert_exporter": "python",
   "pygments_lexer": "ipython3",
   "version": "3.12.7"
  }
 },
 "nbformat": 4,
 "nbformat_minor": 5
}
